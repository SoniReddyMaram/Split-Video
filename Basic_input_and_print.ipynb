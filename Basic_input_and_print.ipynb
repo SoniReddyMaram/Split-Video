{
  "nbformat": 4,
  "nbformat_minor": 0,
  "metadata": {
    "colab": {
      "provenance": [],
      "authorship_tag": "ABX9TyMWbCP3Yh+eFJ52UeLGZYwR",
      "include_colab_link": true
    },
    "kernelspec": {
      "name": "python3",
      "display_name": "Python 3"
    },
    "language_info": {
      "name": "python"
    }
  },
  "cells": [
    {
      "cell_type": "markdown",
      "metadata": {
        "id": "view-in-github",
        "colab_type": "text"
      },
      "source": [
        "<a href=\"https://colab.research.google.com/github/SoniReddyMaram/Split-Video/blob/main/Basic_input_and_print.ipynb\" target=\"_parent\"><img src=\"https://colab.research.google.com/assets/colab-badge.svg\" alt=\"Open In Colab\"/></a>"
      ]
    },
    {
      "cell_type": "markdown",
      "source": [
        "# Write a program to accept two numbers from the user and calculate multiplication"
      ],
      "metadata": {
        "id": "uzzSpzydk7R7"
      }
    },
    {
      "cell_type": "code",
      "source": [
        "num1=int(input(\"Enter number 1: \"))\n",
        "num2=int(input(\"Enter number 2: \"))\n",
        "result = num1*num2\n",
        "print(\"Multiplication of number 1 and number 2 is\", result)"
      ],
      "metadata": {
        "colab": {
          "base_uri": "https://localhost:8080/"
        },
        "id": "5qCmtV6EkU8n",
        "outputId": "754cae87-7fbb-43c7-e45a-ca37d8207f8b"
      },
      "execution_count": 4,
      "outputs": [
        {
          "output_type": "stream",
          "name": "stdout",
          "text": [
            "Enter number 1: 5\n",
            "Enter number 2: 10\n",
            "Multiplication of number 1 and number 2 is 50\n"
          ]
        }
      ]
    },
    {
      "cell_type": "markdown",
      "source": [
        "# Display four strings \"My\", \"Name\", \"is\", \"soni\" as \"My ** Name** is ** soni **\""
      ],
      "metadata": {
        "id": "mvq0pF3elCQZ"
      }
    },
    {
      "cell_type": "code",
      "execution_count": 2,
      "metadata": {
        "colab": {
          "base_uri": "https://localhost:8080/"
        },
        "id": "BE8U5xBPjb74",
        "outputId": "15cb5b17-9e26-494b-9378-a4774cbea02a"
      },
      "outputs": [
        {
          "output_type": "stream",
          "name": "stdout",
          "text": [
            "My**Name**is**Soni\n"
          ]
        }
      ],
      "source": [
        "print(\"My\",\"Name\",\"is\",\"Soni\",sep=\"**'\")"
      ]
    },
    {
      "cell_type": "markdown",
      "source": [
        "# Convert Decimal number to octal using print() output formatting"
      ],
      "metadata": {
        "id": "iY-RSz1LmHdY"
      }
    },
    {
      "cell_type": "code",
      "source": [
        "num = 8\n",
        "print(\"%o\" % num)"
      ],
      "metadata": {
        "colab": {
          "base_uri": "https://localhost:8080/"
        },
        "id": "KNOVxTk-kNMm",
        "outputId": "9d664db3-e75b-4c61-b7f7-73acce4cbe7a"
      },
      "execution_count": 7,
      "outputs": [
        {
          "output_type": "stream",
          "name": "stdout",
          "text": [
            "10\n"
          ]
        }
      ]
    },
    {
      "cell_type": "markdown",
      "source": [
        "# Display float number with 2 decimal places using print()"
      ],
      "metadata": {
        "id": "_KJ_gs_SmjIg"
      }
    },
    {
      "cell_type": "code",
      "source": [
        "num = 478.21359\n",
        "print(\"%.2f\" %num)"
      ],
      "metadata": {
        "colab": {
          "base_uri": "https://localhost:8080/"
        },
        "id": "G1M6wVTnm41F",
        "outputId": "2e80350b-6f26-4fda-b895-cb6cdfee41ad"
      },
      "execution_count": 8,
      "outputs": [
        {
          "output_type": "stream",
          "name": "stdout",
          "text": [
            "478.21\n"
          ]
        }
      ]
    },
    {
      "cell_type": "markdown",
      "source": [
        "# Accept a list of 5 float numbers as an input from the user"
      ],
      "metadata": {
        "id": "ND04_7dlnDca"
      }
    },
    {
      "cell_type": "code",
      "source": [
        "numbers = []\n",
        "\n",
        "for i in range(0,5):\n",
        "  print(\"Enter number at location\", i, \":\")\n",
        "  item = float(input())\n",
        "  numbers.append(item)\n",
        "print(\"User Lists:\", numbers)"
      ],
      "metadata": {
        "colab": {
          "base_uri": "https://localhost:8080/"
        },
        "id": "S4PmEpclnOdV",
        "outputId": "742b9bf0-6c43-4c88-d248-ece5c1204987"
      },
      "execution_count": 11,
      "outputs": [
        {
          "output_type": "stream",
          "name": "stdout",
          "text": [
            "Enter number at location 0 :\n",
            "20.5\n",
            "Enter number at location 1 :\n",
            "45.1\n",
            "Enter number at location 2 :\n",
            "75.9\n",
            "Enter number at location 3 :\n",
            "43.1\n",
            "Enter number at location 4 :\n",
            "75.8\n",
            "User Lists: [20.5, 45.1, 75.9, 43.1, 75.8]\n"
          ]
        }
      ]
    },
    {
      "cell_type": "markdown",
      "source": [
        "# Write a program to take three names as input from a user in the single input() function call."
      ],
      "metadata": {
        "id": "Vpej8l9qoRT1"
      }
    },
    {
      "cell_type": "code",
      "source": [
        "str1, str2, str3 = input(\"Enter three strings\").split()\n",
        "print(\"Name1:\", str1)\n",
        "print(\"Name2:\", str2)\n",
        "print(\"Nmae3:\", str3)"
      ],
      "metadata": {
        "colab": {
          "base_uri": "https://localhost:8080/"
        },
        "id": "59CeYfIpolat",
        "outputId": "562a0ffd-e039-4132-9458-2e961a06377b"
      },
      "execution_count": 13,
      "outputs": [
        {
          "output_type": "stream",
          "name": "stdout",
          "text": [
            "Enter three stringsRam Sita Raju\n",
            "Name1: Ram\n",
            "Name2: Sita\n",
            "Nmae3: Raju\n"
          ]
        }
      ]
    }
  ]
}